{
 "cells": [
  {
   "cell_type": "code",
   "execution_count": 7,
   "metadata": {},
   "outputs": [
    {
     "name": "stdout",
     "output_type": "stream",
     "text": [
      "The autoreload extension is already loaded. To reload it, use:\n",
      "  %reload_ext autoreload\n"
     ]
    }
   ],
   "source": [
    "%matplotlib inline\n",
    "%config InlineBackend.figure_format = 'retina'\n",
    "\n",
    "import matplotlib.pyplot as plt\n",
    "from torchvision import datasets, transforms\n",
    "import torch\n",
    "%load_ext autoreload\n",
    "%autoreload 2\n",
    "from model import neural_network_batch"
   ]
  },
  {
   "cell_type": "code",
   "execution_count": 8,
   "metadata": {},
   "outputs": [
    {
     "name": "stdout",
     "output_type": "stream",
     "text": [
      "Using mps device\n"
     ]
    }
   ],
   "source": [
    "device = (\n",
    "    \"cuda\"\n",
    "    if torch.cuda.is_available()\n",
    "    else \"mps\"\n",
    "    if torch.backends.mps.is_available()\n",
    "    else \"cpu\"\n",
    ")\n",
    "print(f\"Using {device} device\")"
   ]
  },
  {
   "cell_type": "code",
   "execution_count": 9,
   "metadata": {},
   "outputs": [],
   "source": [
    "transform=transforms.Compose([\n",
    "        transforms.ToTensor(),\n",
    "        transforms.Normalize((0.1307,), (0.3081,))\n",
    "        ])\n",
    "train_dataset = datasets.MNIST(root='data/', train=True, transform=transform, download=False)\n",
    "# Load the testing dataset\n",
    "test_dataset = datasets.MNIST(root='data/', train=False, transform=transform, download=False)"
   ]
  },
  {
   "cell_type": "code",
   "execution_count": 10,
   "metadata": {},
   "outputs": [
    {
     "name": "stdout",
     "output_type": "stream",
     "text": [
      "torch.Size([784, 10000])\n",
      "torch.Size([10, 10000])\n",
      "torch.Size([784, 60000])\n",
      "torch.Size([10, 60000])\n"
     ]
    }
   ],
   "source": [
    "X_train = torch.reshape(train_dataset.data, shape=[train_dataset.data.shape[0],train_dataset.data.shape[1] * train_dataset.data.shape[2] ]).T / 255.0 \n",
    "Y_train_temp = train_dataset.targets\n",
    "Y_train = torch.nn.functional.one_hot(Y_train_temp, 10).T\n",
    "X_test = torch.reshape(test_dataset.data, shape=[test_dataset.data.shape[0],test_dataset.data.shape[1] * test_dataset.data.shape[2] ]).T / 255.0 \n",
    "Y_test = torch.nn.functional.one_hot(test_dataset.targets, 10).T\n",
    "print(X_test.shape)\n",
    "print(Y_test.shape)\n",
    "print(X_train.shape)\n",
    "print(Y_train.shape)"
   ]
  },
  {
   "cell_type": "code",
   "execution_count": 15,
   "metadata": {},
   "outputs": [],
   "source": [
    "model = neural_network_batch.Model([X_train.shape[0],100,10] , device=device, adam=False)"
   ]
  },
  {
   "cell_type": "code",
   "execution_count": 16,
   "metadata": {},
   "outputs": [
    {
     "name": "stdout",
     "output_type": "stream",
     "text": [
      "iteration=0, cost=0.39, accuracy=9.87%\n",
      "iteration=100, cost=0.07, accuracy=83.88%\n",
      "iteration=200, cost=0.04, accuracy=90.28%\n",
      "iteration=300, cost=0.03, accuracy=91.85%\n",
      "iteration=400, cost=0.03, accuracy=92.89%\n",
      "iteration=500, cost=0.03, accuracy=93.69%\n",
      "iteration=600, cost=0.02, accuracy=94.29%\n"
     ]
    }
   ],
   "source": [
    "model.optimize(X_train, Y_train, batch_size = 1000, num_iterations=700, learning_rate=0.005, print_cost=True)"
   ]
  },
  {
   "cell_type": "code",
   "execution_count": 17,
   "metadata": {},
   "outputs": [
    {
     "data": {
      "text/plain": [
       "tensor(94.7700, device='mps:0')"
      ]
     },
     "execution_count": 17,
     "metadata": {},
     "output_type": "execute_result"
    }
   ],
   "source": [
    "model.accuracy(X_test, Y_test)"
   ]
  },
  {
   "cell_type": "code",
   "execution_count": 18,
   "metadata": {},
   "outputs": [
    {
     "name": "stdout",
     "output_type": "stream",
     "text": [
      "tensor([7, 2, 1, 0, 4, 1, 4, 9, 5, 9])\n",
      "tensor([7, 2, 1, 0, 4, 1, 4, 9, 6, 9], device='mps:0')\n"
     ]
    }
   ],
   "source": [
    "print(test_dataset.targets[0:10])\n",
    "print(model.predict(X_test[:,0:10]))"
   ]
  }
 ],
 "metadata": {
  "kernelspec": {
   "display_name": "aim",
   "language": "python",
   "name": "python3"
  },
  "language_info": {
   "codemirror_mode": {
    "name": "ipython",
    "version": 3
   },
   "file_extension": ".py",
   "mimetype": "text/x-python",
   "name": "python",
   "nbconvert_exporter": "python",
   "pygments_lexer": "ipython3",
   "version": "3.9.19"
  }
 },
 "nbformat": 4,
 "nbformat_minor": 2
}
