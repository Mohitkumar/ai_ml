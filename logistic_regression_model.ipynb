{
 "cells": [
  {
   "cell_type": "code",
   "execution_count": 1,
   "metadata": {},
   "outputs": [
    {
     "name": "stderr",
     "output_type": "stream",
     "text": [
      "/Users/mohitkumar/miniconda3/envs/aim/lib/python3.9/site-packages/torchvision/io/image.py:13: UserWarning: Failed to load image Python extension: 'dlopen(/Users/mohitkumar/miniconda3/envs/aim/lib/python3.9/site-packages/torchvision/image.so, 0x0006): Symbol not found: __ZN3c1017RegisterOperatorsD1Ev\n",
      "  Referenced from: <2D1B8D5C-7891-3680-9CF9-F771AE880676> /Users/mohitkumar/miniconda3/envs/aim/lib/python3.9/site-packages/torchvision/image.so\n",
      "  Expected in:     <CDAC6E34-8608-3E70-8B2F-32BCD38E90FB> /Users/mohitkumar/miniconda3/envs/aim/lib/python3.9/site-packages/torch/lib/libtorch_cpu.dylib'If you don't plan on using image functionality from `torchvision.io`, you can ignore this warning. Otherwise, there might be something wrong with your environment. Did you have `libjpeg` or `libpng` installed before building `torchvision` from source?\n",
      "  warn(\n"
     ]
    }
   ],
   "source": [
    "%matplotlib inline\n",
    "%config InlineBackend.figure_format = 'retina'\n",
    "\n",
    "import matplotlib.pyplot as plt\n",
    "from torchvision import datasets, transforms\n",
    "import torch\n",
    "%load_ext autoreload\n",
    "%autoreload 2\n",
    "from model import logistic_regression"
   ]
  },
  {
   "cell_type": "code",
   "execution_count": 2,
   "metadata": {},
   "outputs": [
    {
     "name": "stdout",
     "output_type": "stream",
     "text": [
      "Using mps device\n"
     ]
    }
   ],
   "source": [
    "device = (\n",
    "    \"cuda\"\n",
    "    if torch.cuda.is_available()\n",
    "    else \"mps\"\n",
    "    if torch.backends.mps.is_available()\n",
    "    else \"cpu\"\n",
    ")\n",
    "print(f\"Using {device} device\")"
   ]
  },
  {
   "cell_type": "code",
   "execution_count": 3,
   "metadata": {},
   "outputs": [],
   "source": [
    "transform=transforms.Compose([\n",
    "        transforms.ToTensor(),\n",
    "        transforms.Normalize((0.1307,), (0.3081,))\n",
    "        ])\n",
    "train_dataset = datasets.MNIST(root='data/', train=True, transform=transform, download=False)\n",
    "# Load the testing dataset\n",
    "test_dataset = datasets.MNIST(root='data/', train=False, transform=transform, download=False)"
   ]
  },
  {
   "cell_type": "code",
   "execution_count": 6,
   "metadata": {},
   "outputs": [
    {
     "data": {
      "text/plain": [
       "tensor(1)"
      ]
     },
     "execution_count": 6,
     "metadata": {},
     "output_type": "execute_result"
    },
    {
     "data": {
      "image/png": "[encoded data removed]",
      "text/plain": [
       "<Figure size 640x480 with 1 Axes>"
      ]
     },
     "metadata": {
      "image/png": {
       "height": 413,
       "width": 416
      }
     },
     "output_type": "display_data"
    }
   ],
   "source": [
    "index = 8\n",
    "plt.imshow(test_dataset.data[index])\n",
    "train_dataset.targets[index]"
   ]
  },
  {
   "cell_type": "code",
   "execution_count": 5,
   "metadata": {},
   "outputs": [
    {
     "name": "stdout",
     "output_type": "stream",
     "text": [
      "torch.Size([784, 10000])\n",
      "torch.Size([10, 10000])\n",
      "torch.Size([784, 60000])\n",
      "torch.Size([10, 60000])\n"
     ]
    }
   ],
   "source": [
    "X_train = torch.reshape(train_dataset.data, shape=[train_dataset.data.shape[0],train_dataset.data.shape[1] * train_dataset.data.shape[2] ]).T / 255.0 \n",
    "Y_train_temp = train_dataset.targets\n",
    "Y_train = torch.nn.functional.one_hot(Y_train_temp, 10).T\n",
    "X_test = torch.reshape(test_dataset.data, shape=[test_dataset.data.shape[0],test_dataset.data.shape[1] * test_dataset.data.shape[2] ]).T / 255.0 \n",
    "Y_test = torch.nn.functional.one_hot(test_dataset.targets, 10).T\n",
    "print(X_test.shape)\n",
    "print(Y_test.shape)\n",
    "print(X_train.shape)\n",
    "print(Y_train.shape)"
   ]
  },
  {
   "cell_type": "code",
   "execution_count": 6,
   "metadata": {},
   "outputs": [],
   "source": [
    "model = logistic_regression.LinerRegression(10, X_train.shape[0],device=device)"
   ]
  },
  {
   "cell_type": "code",
   "execution_count": 8,
   "metadata": {},
   "outputs": [
    {
     "name": "stdout",
     "output_type": "stream",
     "text": [
      "iteration=0, cost=6.931471824645996, accuracy=0.6723499894142151%\n",
      "iteration=100, cost=2.694343328475952, accuracy=0.765749990940094%\n",
      "iteration=200, cost=2.2691962718963623, accuracy=0.7948499917984009%\n",
      "iteration=300, cost=2.0106966495513916, accuracy=0.8104333281517029%\n",
      "iteration=400, cost=1.837886095046997, accuracy=0.8199333548545837%\n",
      "iteration=500, cost=1.7136708498001099, accuracy=0.8262666463851929%\n",
      "iteration=600, cost=1.619463562965393, accuracy=0.8316500186920166%\n",
      "iteration=700, cost=1.5450977087020874, accuracy=0.8363500237464905%\n",
      "iteration=800, cost=1.4845741987228394, accuracy=0.8401666879653931%\n",
      "iteration=900, cost=1.4341275691986084, accuracy=0.8440166711807251%\n",
      "iteration=1000, cost=1.3912708759307861, accuracy=0.8469333052635193%\n",
      "iteration=1100, cost=1.3542929887771606, accuracy=0.8497166633605957%\n",
      "iteration=1200, cost=1.321974754333496, accuracy=0.852233350276947%\n",
      "iteration=1300, cost=1.2934221029281616, accuracy=0.8537333607673645%\n",
      "iteration=1400, cost=1.2679635286331177, accuracy=0.8556333184242249%\n",
      "iteration=1500, cost=1.2450827360153198, accuracy=0.8569999933242798%\n",
      "iteration=1600, cost=1.2243764400482178, accuracy=0.8584666848182678%\n",
      "iteration=1700, cost=1.2055243253707886, accuracy=0.8601166605949402%\n",
      "iteration=1800, cost=1.1882679462432861, accuracy=0.86121666431427%\n",
      "iteration=1900, cost=1.1723968982696533, accuracy=0.862333357334137%\n",
      "iteration=2000, cost=1.157736897468567, accuracy=0.8634666800498962%\n",
      "iteration=2100, cost=1.1441432237625122, accuracy=0.864983320236206%\n",
      "iteration=2200, cost=1.1314939260482788, accuracy=0.8658499717712402%\n",
      "iteration=2300, cost=1.1196855306625366, accuracy=0.8669833540916443%\n",
      "iteration=2400, cost=1.1086299419403076, accuracy=0.8681333065032959%\n",
      "iteration=2500, cost=1.098251223564148, accuracy=0.8689833283424377%\n",
      "iteration=2600, cost=1.0884833335876465, accuracy=0.8695666790008545%\n",
      "iteration=2700, cost=1.0792696475982666, accuracy=0.8702999949455261%\n",
      "iteration=2800, cost=1.0705596208572388, accuracy=0.8708666563034058%\n",
      "iteration=2900, cost=1.0623096227645874, accuracy=0.8715833425521851%\n"
     ]
    }
   ],
   "source": [
    "model.optimize(X_train, Y_train,3000,print_cost=True)"
   ]
  },
  {
   "cell_type": "code",
   "execution_count": 9,
   "metadata": {},
   "outputs": [],
   "source": [
    "prediction = model.predict(X_test)"
   ]
  },
  {
   "cell_type": "code",
   "execution_count": 10,
   "metadata": {},
   "outputs": [
    {
     "data": {
      "text/plain": [
       "tensor(0.8802, device='mps:0')"
      ]
     },
     "execution_count": 10,
     "metadata": {},
     "output_type": "execute_result"
    }
   ],
   "source": [
    "model.accuracy(X_test, Y_test)"
   ]
  }
 ],
 "metadata": {
  "kernelspec": {
   "display_name": "aim",
   "language": "python",
   "name": "python3"
  },
  "language_info": {
   "codemirror_mode": {
    "name": "ipython",
    "version": 3
   },
   "file_extension": ".py",
   "mimetype": "text/x-python",
   "name": "python",
   "nbconvert_exporter": "python",
   "pygments_lexer": "ipython3",
   "version": "3.9.19"
  }
 },
 "nbformat": 4,
 "nbformat_minor": 2
}
